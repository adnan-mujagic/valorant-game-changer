{
 "cells": [
  {
   "cell_type": "markdown",
   "metadata": {},
   "source": [
    "#### Imports\n",
    "Initially, we need to import standard libraries, such as pandas and numpy"
   ]
  },
  {
   "cell_type": "code",
   "execution_count": 3,
   "metadata": {},
   "outputs": [
    {
     "data": {
      "text/html": [
       "<div>\n",
       "<style scoped>\n",
       "    .dataframe tbody tr th:only-of-type {\n",
       "        vertical-align: middle;\n",
       "    }\n",
       "\n",
       "    .dataframe tbody tr th {\n",
       "        vertical-align: top;\n",
       "    }\n",
       "\n",
       "    .dataframe thead th {\n",
       "        text-align: right;\n",
       "    }\n",
       "</style>\n",
       "<table border=\"1\" class=\"dataframe\">\n",
       "  <thead>\n",
       "    <tr style=\"text-align: right;\">\n",
       "      <th></th>\n",
       "      <th>Numbers adv</th>\n",
       "      <th>Health advantage</th>\n",
       "      <th>Average Weapon Cost</th>\n",
       "      <th>Time Pressure</th>\n",
       "      <th>Ults in use</th>\n",
       "      <th>Ults available</th>\n",
       "      <th>Result</th>\n",
       "    </tr>\n",
       "  </thead>\n",
       "  <tbody>\n",
       "    <tr>\n",
       "      <th>0</th>\n",
       "      <td>0</td>\n",
       "      <td>-128</td>\n",
       "      <td>680.0</td>\n",
       "      <td>-51</td>\n",
       "      <td>0</td>\n",
       "      <td>-1</td>\n",
       "      <td>0</td>\n",
       "    </tr>\n",
       "    <tr>\n",
       "      <th>1</th>\n",
       "      <td>0</td>\n",
       "      <td>-50</td>\n",
       "      <td>-1400.0</td>\n",
       "      <td>-6</td>\n",
       "      <td>-1</td>\n",
       "      <td>2</td>\n",
       "      <td>0</td>\n",
       "    </tr>\n",
       "    <tr>\n",
       "      <th>2</th>\n",
       "      <td>4</td>\n",
       "      <td>364</td>\n",
       "      <td>1470.0</td>\n",
       "      <td>67</td>\n",
       "      <td>0</td>\n",
       "      <td>0</td>\n",
       "      <td>1</td>\n",
       "    </tr>\n",
       "    <tr>\n",
       "      <th>3</th>\n",
       "      <td>2</td>\n",
       "      <td>302</td>\n",
       "      <td>-1300.0</td>\n",
       "      <td>27</td>\n",
       "      <td>0</td>\n",
       "      <td>0</td>\n",
       "      <td>1</td>\n",
       "    </tr>\n",
       "    <tr>\n",
       "      <th>4</th>\n",
       "      <td>1</td>\n",
       "      <td>325</td>\n",
       "      <td>2622.5</td>\n",
       "      <td>21</td>\n",
       "      <td>0</td>\n",
       "      <td>1</td>\n",
       "      <td>1</td>\n",
       "    </tr>\n",
       "  </tbody>\n",
       "</table>\n",
       "</div>"
      ],
      "text/plain": [
       "   Numbers adv  Health advantage  Average Weapon Cost  Time Pressure  \\\n",
       "0            0              -128                680.0            -51   \n",
       "1            0               -50              -1400.0             -6   \n",
       "2            4               364               1470.0             67   \n",
       "3            2               302              -1300.0             27   \n",
       "4            1               325               2622.5             21   \n",
       "\n",
       "   Ults in use  Ults available  Result  \n",
       "0            0              -1       0  \n",
       "1           -1               2       0  \n",
       "2            0               0       1  \n",
       "3            0               0       1  \n",
       "4            0               1       1  "
      ]
     },
     "execution_count": 3,
     "metadata": {},
     "output_type": "execute_result"
    }
   ],
   "source": [
    "import numpy as np\n",
    "import pandas as pd\n",
    "\n",
    "from sklearn.linear_model import LogisticRegression\n",
    "from sklearn.model_selection import train_test_split\n",
    "\n",
    "dataset = pd.read_excel(\"./dataset.xlsx\")\n",
    "\n",
    "dataset.head()"
   ]
  },
  {
   "cell_type": "markdown",
   "metadata": {},
   "source": [
    "#### Fitting the model\n",
    "Here we will split the data into training and testing sets, and then fit the model"
   ]
  },
  {
   "cell_type": "code",
   "execution_count": 16,
   "metadata": {},
   "outputs": [
    {
     "name": "stdout",
     "output_type": "stream",
     "text": [
      "[[ 0.         -0.21333333  0.23129252 -0.6         0.         -0.33333333]\n",
      " [ 0.         -0.08333333 -0.47619048 -0.07058824 -1.          0.66666667]\n",
      " [ 1.          0.60666667  0.5         0.78823529  0.          0.        ]\n",
      " [ 0.5         0.50333333 -0.44217687  0.31764706  0.          0.        ]\n",
      " [ 0.25        0.54166667  0.8920068   0.24705882  0.          0.33333333]\n",
      " [ 0.          0.05        0.74404762  0.42352941  0.          0.        ]\n",
      " [ 0.5         0.54166667 -0.08163265  0.15294118  1.          0.        ]\n",
      " [ 1.          1.          0.12244898  0.29411765  1.          0.33333333]\n",
      " [ 0.          0.20833333  1.          0.08235294 -1.         -0.33333333]\n",
      " [ 0.25        0.33333333  0.4914966   0.22352941 -1.         -0.33333333]\n",
      " [ 0.          0.04166667  0.15306122  0.24705882  0.          0.33333333]\n",
      " [-0.5        -0.375       0.33673469  0.38823529  0.          0.        ]\n",
      " [ 0.25        0.14166667 -0.02268707 -0.38823529  0.          0.        ]\n",
      " [ 0.25       -0.20166667  0.25510204  0.70588235  0.          0.        ]\n",
      " [ 0.          0.41666667  0.43537415  0.11764706  0.          0.        ]\n",
      " [ 0.75        0.635      -0.3537415   0.69411765  0.          0.33333333]\n",
      " [ 0.         -0.055       0.12244898  0.44705882 -1.          0.33333333]\n",
      " [-0.25       -0.11666667  0.54421769  0.37647059  0.          0.33333333]\n",
      " [ 0.25        0.25        0.          0.48235294  1.          0.66666667]\n",
      " [ 0.          0.11833333  0.08503401  0.55294118  1.          0.        ]\n",
      " [ 0.5         0.50833333  0.15306122 -0.87058824  0.          0.33333333]\n",
      " [-0.25       -0.59        0.         -0.92941176  0.          0.        ]\n",
      " [ 0.         -0.29166667 -0.84353741 -0.16470588  0.          0.66666667]\n",
      " [-0.25       -0.36166667  0.         -0.09411765  0.          0.33333333]\n",
      " [-0.5        -0.13        0.          0.82352941  1.          0.        ]\n",
      " [-0.25       -0.06333333  0.21343537  1.          0.          0.        ]\n",
      " [-0.5        -0.25333333  0.74404762 -0.67058824  0.          0.33333333]\n",
      " [ 0.5         0.36        0.          0.76470588  1.          0.        ]\n",
      " [ 0.25        0.16666667 -0.10204082 -0.34117647  1.          0.33333333]\n",
      " [ 0.          0.04166667  0.1462585   0.          0.          0.33333333]\n",
      " [-0.25       -0.08333333  0.06462585  0.48235294  0.          0.        ]\n",
      " [ 0.          0.          0.15306122  0.36470588 -1.          0.66666667]\n",
      " [ 0.5         0.175      -0.54965986  0.28235294  0.          0.33333333]\n",
      " [ 0.25        0.15        0.          0.37647059  0.          1.        ]\n",
      " [-0.25       -0.33333333  0.03061224  0.31764706  0.          0.        ]\n",
      " [ 0.         -0.04166667 -0.3537415   0.02352941  0.          0.        ]\n",
      " [ 0.          0.41666667  0.51020408 -0.03529412  0.          0.        ]\n",
      " [-0.25       -0.28333333 -0.66326531 -0.21176471  0.          0.        ]\n",
      " [-0.25       -0.45        0.         -0.32941176  1.          0.        ]\n",
      " [-0.5        -0.75666667 -0.85714286 -0.43529412  0.          0.        ]\n",
      " [-0.25       -0.39833333 -0.17857143 -0.68235294 -1.         -0.66666667]\n",
      " [ 0.         -0.25       -0.85714286 -0.04705882  0.          0.66666667]\n",
      " [ 0.         -0.04166667 -0.14285714  0.          0.          0.33333333]\n",
      " [ 0.         -0.11       -0.28911565 -0.28235294  0.         -0.33333333]\n",
      " [-0.5        -0.15666667  0.05527211 -0.70588235  0.          0.        ]\n",
      " [-0.25       -0.345      -0.37414966 -0.95294118  0.          0.        ]\n",
      " [ 0.         -0.07666667  0.          0.34117647  0.          0.        ]\n",
      " [ 0.5         0.46666667 -0.02380952  0.36470588  0.          0.66666667]\n",
      " [ 0.25        0.41666667  0.9047619   0.29411765  0.          1.        ]\n",
      " [ 0.25        0.15666667  0.         -0.74117647  0.          0.33333333]]\n"
     ]
    },
    {
     "data": {
      "text/plain": [
       "array([[ 0.80900526,  1.0962331 ,  0.49813226,  1.31063   ,  0.5071896 ,\n",
       "        -0.21046495]], dtype=float32)"
      ]
     },
     "execution_count": 16,
     "metadata": {},
     "output_type": "execute_result"
    }
   ],
   "source": [
    "X = dataset.iloc[:,:-1].values\n",
    "Y = dataset.iloc[:,-1].values\n",
    "\n",
    "max_of_each_column = np.abs(X).max(axis = 0, keepdims = True)\n",
    "\n",
    "# Making all the data between -1 and 1 in order to get more accurate weights\n",
    "normalized_X = X / max_of_each_column\n",
    "\n",
    "X_train, X_test, Y_train, Y_test = train_test_split(normalized_X, Y, test_size = 10, shuffle = False)\n",
    "\n",
    "# Fitting the model with the training data\n",
    "model = LogisticRegression(max_iter = 1000).fit(X_train, Y_train)\n",
    "\n",
    "model.coef_.astype(\"float32\")"
   ]
  },
  {
   "cell_type": "markdown",
   "metadata": {},
   "source": [
    "#### Test\n",
    "We will test the performance of the model against the test (validation) data."
   ]
  },
  {
   "cell_type": "code",
   "execution_count": 17,
   "metadata": {},
   "outputs": [
    {
     "name": "stdout",
     "output_type": "stream",
     "text": [
      "[0 0 0 0 0 0 1 1 1 0]\n",
      "[0 1 0 0 0 0 0 1 1 1]\n"
     ]
    },
    {
     "data": {
      "text/plain": [
       "0.7"
      ]
     },
     "execution_count": 17,
     "metadata": {},
     "output_type": "execute_result"
    }
   ],
   "source": [
    "prediction = model.predict(X_test)\n",
    "print(prediction)\n",
    "print(Y_test)\n",
    "\n",
    "model.score(X_test, Y_test)"
   ]
  },
  {
   "cell_type": "markdown",
   "metadata": {},
   "source": [
    "#### Visualization\n",
    "Here we will plot actual results and the predicted results for comparison"
   ]
  },
  {
   "cell_type": "code",
   "execution_count": 18,
   "metadata": {},
   "outputs": [
    {
     "data": {
      "text/plain": [
       "<matplotlib.legend.Legend at 0x1bd046af970>"
      ]
     },
     "execution_count": 18,
     "metadata": {},
     "output_type": "execute_result"
    },
    {
     "data": {
      "image/png": "[encoded data removed]",
      "text/plain": [
       "<Figure size 432x288 with 1 Axes>"
      ]
     },
     "metadata": {
      "needs_background": "light"
     },
     "output_type": "display_data"
    }
   ],
   "source": [
    "from matplotlib import pyplot as plt\n",
    "\n",
    "linspace = np.arange(0, 10)\n",
    "plt.scatter(linspace, Y_test, color = \"blue\")\n",
    "plt.plot(linspace, Y_test, color = \"blue\", label = \"Actual results\", alpha = 0.2)\n",
    "\n",
    "plt.scatter(linspace, prediction, color = \"red\")\n",
    "plt.plot(linspace, prediction, color = \"red\", label = \"Predicted results\")\n",
    "\n",
    "plt.legend(loc = \"upper left\")"
   ]
  }
 ],
 "metadata": {
  "kernelspec": {
   "display_name": "Python 3.10.2 64-bit",
   "language": "python",
   "name": "python3"
  },
  "language_info": {
   "codemirror_mode": {
    "name": "ipython",
    "version": 3
   },
   "file_extension": ".py",
   "mimetype": "text/x-python",
   "name": "python",
   "nbconvert_exporter": "python",
   "pygments_lexer": "ipython3",
   "version": "3.10.2"
  },
  "orig_nbformat": 4,
  "vscode": {
   "interpreter": {
    "hash": "88fe7a25d85054255547d6d20438077e2c9b7f0173c5c7f80b1ed29a40135d98"
   }
  }
 },
 "nbformat": 4,
 "nbformat_minor": 2
}
