{
 "cells": [
  {
   "cell_type": "markdown",
   "metadata": {},
   "source": [
    "#### Imports\n",
    "We import tensorflow, pandas, numpy and our dataset"
   ]
  },
  {
   "cell_type": "code",
   "execution_count": 1,
   "metadata": {},
   "outputs": [],
   "source": [
    "import tensorflow as tf\n",
    "from tensorflow import keras\n",
    "from sklearn.model_selection import train_test_split\n",
    "\n",
    "import pandas as pd\n",
    "import numpy as np\n",
    "\n",
    "dataset = pd.read_excel(\"./dataset.xlsx\")\n",
    "\n",
    "# np.random.shuffle(dataset.values)\n",
    "\n",
    "X = dataset.iloc[:,:-1].values\n",
    "Y = dataset.iloc[:,-1].values\n",
    "\n",
    "# split the data into training and validation\n",
    "train_X, test_X, train_Y, test_Y = train_test_split(X, Y, test_size = 10, shuffle = False)"
   ]
  },
  {
   "cell_type": "markdown",
   "metadata": {},
   "source": [
    "#### Defining a model\n",
    "Here we will create a neural network model which will take the input of 6 features, go through two hidden layers, and output whether the result is a loss or a win."
   ]
  },
  {
   "cell_type": "code",
   "execution_count": 2,
   "metadata": {},
   "outputs": [],
   "source": [
    "# The model\n",
    "model = keras.Sequential([\n",
    "        keras.layers.Dense(96, input_shape = (6,), activation = \"relu\"),\n",
    "        keras.layers.Dense(48, activation = \"relu\"),\n",
    "        keras.layers.Dense(2, activation = \"softmax\")\n",
    "    ]\n",
    ")"
   ]
  },
  {
   "cell_type": "markdown",
   "metadata": {},
   "source": [
    "#### Fitting the model"
   ]
  },
  {
   "cell_type": "code",
   "execution_count": 5,
   "metadata": {},
   "outputs": [
    {
     "name": "stdout",
     "output_type": "stream",
     "text": [
      "Epoch 1/20\n",
      "4/4 [==============================] - 0s 2ms/step - loss: 3.4505 - accuracy: 0.8000\n",
      "Epoch 2/20\n",
      "4/4 [==============================] - 0s 1ms/step - loss: 2.9677 - accuracy: 0.7750\n",
      "Epoch 3/20\n",
      "4/4 [==============================] - 0s 2ms/step - loss: 4.7963 - accuracy: 0.8250\n",
      "Epoch 4/20\n",
      "4/4 [==============================] - 0s 1ms/step - loss: 1.7606 - accuracy: 0.8500\n",
      "Epoch 5/20\n",
      "4/4 [==============================] - 0s 1ms/step - loss: 0.9313 - accuracy: 0.8000\n",
      "Epoch 6/20\n",
      "4/4 [==============================] - 0s 2ms/step - loss: 1.1196 - accuracy: 0.9000\n",
      "Epoch 7/20\n",
      "4/4 [==============================] - 0s 2ms/step - loss: 2.5237 - accuracy: 0.8250\n",
      "Epoch 8/20\n",
      "4/4 [==============================] - 0s 1ms/step - loss: 0.5223 - accuracy: 0.8750\n",
      "Epoch 9/20\n",
      "4/4 [==============================] - 0s 2ms/step - loss: 1.4529 - accuracy: 0.7750\n",
      "Epoch 10/20\n",
      "4/4 [==============================] - 0s 2ms/step - loss: 2.1193 - accuracy: 0.8750\n",
      "Epoch 11/20\n",
      "4/4 [==============================] - 0s 2ms/step - loss: 1.6018 - accuracy: 0.8250\n",
      "Epoch 12/20\n",
      "4/4 [==============================] - 0s 2ms/step - loss: 0.6806 - accuracy: 0.8250\n",
      "Epoch 13/20\n",
      "4/4 [==============================] - 0s 2ms/step - loss: 1.2364 - accuracy: 0.9000\n",
      "Epoch 14/20\n",
      "4/4 [==============================] - 0s 2ms/step - loss: 0.5386 - accuracy: 0.8750\n",
      "Epoch 15/20\n",
      "4/4 [==============================] - 0s 2ms/step - loss: 0.7348 - accuracy: 0.9000\n",
      "Epoch 16/20\n",
      "4/4 [==============================] - 0s 2ms/step - loss: 0.3965 - accuracy: 0.9000\n",
      "Epoch 17/20\n",
      "4/4 [==============================] - 0s 3ms/step - loss: 0.3284 - accuracy: 0.9000\n",
      "Epoch 18/20\n",
      "4/4 [==============================] - 0s 2ms/step - loss: 0.7519 - accuracy: 0.8000\n",
      "Epoch 19/20\n",
      "4/4 [==============================] - 0s 2ms/step - loss: 0.8043 - accuracy: 0.9000\n",
      "Epoch 20/20\n",
      "4/4 [==============================] - 0s 2ms/step - loss: 1.0409 - accuracy: 0.8750\n",
      "1/1 [==============================] - 0s 45ms/step\n",
      "[0 0 0 0 0 0 1 1 1 0]\n",
      "[0 1 0 0 0 0 0 1 1 1]\n",
      "1/1 [==============================] - 0s 122ms/step - loss: 8.6615 - accuracy: 0.7000\n"
     ]
    }
   ],
   "source": [
    "def predict_outcomes(test_X):\n",
    "    model.compile(\n",
    "        optimizer = \"adam\",\n",
    "        loss = keras.losses.SparseCategoricalCrossentropy(from_logits = False),\n",
    "        metrics = [\"accuracy\"]\n",
    "    )\n",
    "    model.fit(train_X, train_Y, batch_size = 10, epochs=20)\n",
    "    predictions = np.around(model.predict(test_X), decimals = 2)\n",
    "    prediction_list = []\n",
    "    for prediction in predictions:\n",
    "        prediction_list.append(0 if prediction[0] > 0.5 else 1)\n",
    "    return np.array(prediction_list)\n",
    "    \n",
    "def evaluate(test_X, test_Y):\n",
    "    model.evaluate(test_X, test_Y)\n",
    "    return\n",
    "         \n",
    "print(predict_outcomes(test_X))\n",
    "print(test_Y)\n",
    "evaluate(test_X, test_Y)"
   ]
  },
  {
   "cell_type": "markdown",
   "metadata": {},
   "source": [
    "#### Data visualization\n",
    "Here we will draw a chart that compares the actual results to the predicted results by our neural network model."
   ]
  }
 ],
 "metadata": {
  "kernelspec": {
   "display_name": "Python 3.10.2 64-bit",
   "language": "python",
   "name": "python3"
  },
  "language_info": {
   "codemirror_mode": {
    "name": "ipython",
    "version": 3
   },
   "file_extension": ".py",
   "mimetype": "text/x-python",
   "name": "python",
   "nbconvert_exporter": "python",
   "pygments_lexer": "ipython3",
   "version": "3.10.2"
  },
  "orig_nbformat": 4,
  "vscode": {
   "interpreter": {
    "hash": "88fe7a25d85054255547d6d20438077e2c9b7f0173c5c7f80b1ed29a40135d98"
   }
  }
 },
 "nbformat": 4,
 "nbformat_minor": 2
}
