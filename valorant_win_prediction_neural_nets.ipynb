{
 "cells": [
  {
   "cell_type": "markdown",
   "metadata": {},
   "source": [
    "#### Imports\n",
    "We import tensorflow, pandas, numpy and our dataset"
   ]
  },
  {
   "cell_type": "code",
   "execution_count": 2,
   "metadata": {},
   "outputs": [],
   "source": [
    "import tensorflow as tf\n",
    "from tensorflow import keras\n",
    "from sklearn.model_selection import train_test_split\n",
    "\n",
    "import pandas as pd\n",
    "import numpy as np\n",
    "\n",
    "dataset = pd.read_excel(\"./dataset.xlsx\")\n",
    "\n",
    "# np.random.shuffle(dataset.values)\n",
    "\n",
    "X = dataset.iloc[:,:-1].values\n",
    "Y = dataset.iloc[:,-1].values\n",
    "\n",
    "# split the data into training and validation\n",
    "train_X, test_X, train_Y, test_Y = train_test_split(X, Y, test_size = 10, shuffle = False)"
   ]
  },
  {
   "cell_type": "markdown",
   "metadata": {},
   "source": [
    "#### Defining a model\n",
    "Here we will create a neural network model which will take the input of 6 features, go through two hidden layers, and output whether the result is a loss or a win."
   ]
  },
  {
   "cell_type": "code",
   "execution_count": 3,
   "metadata": {},
   "outputs": [],
   "source": [
    "# The model\n",
    "model = keras.Sequential([\n",
    "        keras.layers.Dense(96, input_shape = (6,), activation = \"relu\"),\n",
    "        keras.layers.Dense(48, activation = \"relu\"),\n",
    "        keras.layers.Dense(2, activation = \"softmax\")\n",
    "    ]\n",
    ")"
   ]
  },
  {
   "cell_type": "markdown",
   "metadata": {},
   "source": [
    "#### Fitting the model"
   ]
  },
  {
   "cell_type": "code",
   "execution_count": 4,
   "metadata": {},
   "outputs": [
    {
     "name": "stdout",
     "output_type": "stream",
     "text": [
      "Epoch 1/20\n",
      "4/4 [==============================] - 0s 2ms/step - loss: 17.3772 - accuracy: 0.6500\n",
      "Epoch 2/20\n",
      "4/4 [==============================] - 0s 997us/step - loss: 19.7631 - accuracy: 0.5000\n",
      "Epoch 3/20\n",
      "4/4 [==============================] - 0s 997us/step - loss: 10.8301 - accuracy: 0.7000\n",
      "Epoch 4/20\n",
      "4/4 [==============================] - 0s 2ms/step - loss: 8.0824 - accuracy: 0.6000\n",
      "Epoch 5/20\n",
      "4/4 [==============================] - 0s 997us/step - loss: 8.2542 - accuracy: 0.6500\n",
      "Epoch 6/20\n",
      "4/4 [==============================] - 0s 997us/step - loss: 4.8808 - accuracy: 0.7750\n",
      "Epoch 7/20\n",
      "4/4 [==============================] - 0s 997us/step - loss: 4.5884 - accuracy: 0.8000\n",
      "Epoch 8/20\n",
      "4/4 [==============================] - 0s 997us/step - loss: 2.8265 - accuracy: 0.7000\n",
      "Epoch 9/20\n",
      "4/4 [==============================] - 0s 997us/step - loss: 1.9718 - accuracy: 0.8250\n",
      "Epoch 10/20\n",
      "4/4 [==============================] - 0s 1ms/step - loss: 3.1832 - accuracy: 0.8500\n",
      "Epoch 11/20\n",
      "4/4 [==============================] - 0s 997us/step - loss: 2.8893 - accuracy: 0.8000\n",
      "Epoch 12/20\n",
      "4/4 [==============================] - 0s 997us/step - loss: 1.2172 - accuracy: 0.8750\n",
      "Epoch 13/20\n",
      "4/4 [==============================] - 0s 997us/step - loss: 1.5896 - accuracy: 0.8750\n",
      "Epoch 14/20\n",
      "4/4 [==============================] - 0s 1ms/step - loss: 1.0661 - accuracy: 0.8750\n",
      "Epoch 15/20\n",
      "4/4 [==============================] - 0s 1ms/step - loss: 1.8090 - accuracy: 0.8500\n",
      "Epoch 16/20\n",
      "4/4 [==============================] - 0s 1ms/step - loss: 1.4314 - accuracy: 0.9000\n",
      "Epoch 17/20\n",
      "4/4 [==============================] - 0s 997us/step - loss: 1.0695 - accuracy: 0.8500\n",
      "Epoch 18/20\n",
      "4/4 [==============================] - 0s 1ms/step - loss: 0.5092 - accuracy: 0.8750\n",
      "Epoch 19/20\n",
      "4/4 [==============================] - 0s 998us/step - loss: 0.8617 - accuracy: 0.8500\n",
      "Epoch 20/20\n",
      "4/4 [==============================] - 0s 997us/step - loss: 1.2771 - accuracy: 0.8750\n"
     ]
    }
   ],
   "source": [
    "def train():\n",
    "    model.compile(\n",
    "        optimizer = \"adam\",\n",
    "        loss = keras.losses.SparseCategoricalCrossentropy(from_logits = False),\n",
    "        metrics = [\"accuracy\"]\n",
    "    )\n",
    "    model.fit(train_X, train_Y, batch_size = 10, epochs=20)\n",
    "\n",
    "def predict_outcomes(test_X):\n",
    "    predictions = np.around(model.predict(test_X), decimals = 2)\n",
    "    prediction_list = []\n",
    "    for prediction in predictions:\n",
    "        prediction_list.append(0 if prediction[0] > 0.5 else 1)\n",
    "    return np.array(prediction_list)\n",
    "    \n",
    "def evaluate(test_X, test_Y):\n",
    "    return model.evaluate(test_X, test_Y)\n",
    "    \n",
    "\n",
    "train()"
   ]
  },
  {
   "cell_type": "code",
   "execution_count": 5,
   "metadata": {},
   "outputs": [
    {
     "name": "stdout",
     "output_type": "stream",
     "text": [
      "2/2 [==============================] - 0s 2ms/step\n",
      "50\n",
      "0.88\n"
     ]
    }
   ],
   "source": [
    "outcomes = predict_outcomes(X)\n",
    "accuracy = 0\n",
    "print(len(outcomes))\n",
    "for i in range(len(outcomes)):\n",
    "    if (outcomes[i] == Y[i]):\n",
    "        accuracy += 1\n",
    "accuracy = accuracy / len(outcomes)\n",
    "print(accuracy)       \n",
    "# evaluate(X, Y)"
   ]
  },
  {
   "cell_type": "markdown",
   "metadata": {},
   "source": [
    "#### Data visualization\n",
    "Here we will draw a chart that compares the actual results to the predicted results by our neural network model."
   ]
  },
  {
   "cell_type": "code",
   "execution_count": 6,
   "metadata": {},
   "outputs": [
    {
     "name": "stdout",
     "output_type": "stream",
     "text": [
      "1/1 [==============================] - 0s 13ms/step\n"
     ]
    },
    {
     "data": {
      "text/plain": [
       "<matplotlib.legend.Legend at 0x24a21ae9c30>"
      ]
     },
     "execution_count": 6,
     "metadata": {},
     "output_type": "execute_result"
    },
    {
     "data": {
      "image/png": "[encoded data removed]",
      "text/plain": [
       "<Figure size 432x288 with 1 Axes>"
      ]
     },
     "metadata": {
      "needs_background": "light"
     },
     "output_type": "display_data"
    }
   ],
   "source": [
    "from matplotlib import pyplot as plt\n",
    "\n",
    "plt.scatter(np.arange(stop = len(test_Y)), test_Y)\n",
    "plt.plot(np.arange(stop = len(test_Y)), test_Y, color = \"blue\", alpha = 0.2, label = \"Actual results\")\n",
    "\n",
    "predicted_outcomes = predict_outcomes(test_X)\n",
    "\n",
    "plt.scatter(np.arange(stop = len(predicted_outcomes)), predicted_outcomes)\n",
    "plt.plot(np.arange(stop = len(predicted_outcomes)), predicted_outcomes, color = \"red\", label = \"Predicted results\")\n",
    "plt.legend(loc = \"upper left\")"
   ]
  }
 ],
 "metadata": {
  "kernelspec": {
   "display_name": "Python 3.10.2 64-bit",
   "language": "python",
   "name": "python3"
  },
  "language_info": {
   "codemirror_mode": {
    "name": "ipython",
    "version": 3
   },
   "file_extension": ".py",
   "mimetype": "text/x-python",
   "name": "python",
   "nbconvert_exporter": "python",
   "pygments_lexer": "ipython3",
   "version": "3.10.2"
  },
  "orig_nbformat": 4,
  "vscode": {
   "interpreter": {
    "hash": "88fe7a25d85054255547d6d20438077e2c9b7f0173c5c7f80b1ed29a40135d98"
   }
  }
 },
 "nbformat": 4,
 "nbformat_minor": 2
}
