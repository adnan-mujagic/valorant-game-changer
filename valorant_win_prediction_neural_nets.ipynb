{
 "cells": [
  {
   "cell_type": "markdown",
   "metadata": {},
   "source": [
    "#### Imports\n",
    "We import tensorflow, pandas, numpy and our dataset"
   ]
  },
  {
   "cell_type": "code",
   "execution_count": 1,
   "metadata": {},
   "outputs": [],
   "source": [
    "import tensorflow as tf\n",
    "from tensorflow import keras\n",
    "from sklearn.model_selection import train_test_split\n",
    "\n",
    "import pandas as pd\n",
    "import numpy as np\n",
    "\n",
    "dataset = pd.read_excel(\"./dataset.xlsx\")\n",
    "\n",
    "# np.random.shuffle(dataset.values)\n",
    "\n",
    "X = dataset.iloc[:,:-1].values\n",
    "Y = dataset.iloc[:,-1].values\n",
    "\n",
    "# split the data into training and validation\n",
    "train_X, test_X, train_Y, test_Y = train_test_split(X, Y, test_size = 10, shuffle = False)"
   ]
  },
  {
   "cell_type": "markdown",
   "metadata": {},
   "source": [
    "#### Defining a model\n",
    "Here we will create a neural network model which will take the input of 6 features, go through two hidden layers, and output whether the result is a loss or a win."
   ]
  },
  {
   "cell_type": "code",
   "execution_count": 2,
   "metadata": {},
   "outputs": [],
   "source": [
    "# The model\n",
    "model = keras.Sequential([\n",
    "        keras.layers.Dense(96, input_shape = (6,), activation = \"relu\"),\n",
    "        keras.layers.Dense(48, activation = \"relu\"),\n",
    "        keras.layers.Dense(2, activation = \"softmax\")\n",
    "    ]\n",
    ")"
   ]
  },
  {
   "cell_type": "markdown",
   "metadata": {},
   "source": [
    "#### Fitting the model"
   ]
  },
  {
   "cell_type": "code",
   "execution_count": 6,
   "metadata": {},
   "outputs": [
    {
     "name": "stdout",
     "output_type": "stream",
     "text": [
      "Epoch 1/20\n",
      "4/4 [==============================] - 0s 1ms/step - loss: 3.2619 - accuracy: 0.8250\n",
      "Epoch 2/20\n",
      "4/4 [==============================] - 0s 2ms/step - loss: 3.5100 - accuracy: 0.7000\n",
      "Epoch 3/20\n",
      "4/4 [==============================] - 0s 1ms/step - loss: 4.1920 - accuracy: 0.8000\n",
      "Epoch 4/20\n",
      "4/4 [==============================] - 0s 1ms/step - loss: 1.7601 - accuracy: 0.8500\n",
      "Epoch 5/20\n",
      "4/4 [==============================] - 0s 1ms/step - loss: 2.4568 - accuracy: 0.7000\n",
      "Epoch 6/20\n",
      "4/4 [==============================] - 0s 2ms/step - loss: 1.4268 - accuracy: 0.8000\n",
      "Epoch 7/20\n",
      "4/4 [==============================] - 0s 1ms/step - loss: 1.2935 - accuracy: 0.8500\n",
      "Epoch 8/20\n",
      "4/4 [==============================] - 0s 2ms/step - loss: 1.0356 - accuracy: 0.7750\n",
      "Epoch 9/20\n",
      "4/4 [==============================] - 0s 2ms/step - loss: 0.8723 - accuracy: 0.8750\n",
      "Epoch 10/20\n",
      "4/4 [==============================] - 0s 2ms/step - loss: 0.8623 - accuracy: 0.8750\n",
      "Epoch 11/20\n",
      "4/4 [==============================] - 0s 2ms/step - loss: 0.6898 - accuracy: 0.8750\n",
      "Epoch 12/20\n",
      "4/4 [==============================] - 0s 2ms/step - loss: 1.0073 - accuracy: 0.8500\n",
      "Epoch 13/20\n",
      "4/4 [==============================] - 0s 1ms/step - loss: 0.6530 - accuracy: 0.9000\n",
      "Epoch 14/20\n",
      "4/4 [==============================] - 0s 3ms/step - loss: 0.2692 - accuracy: 0.9000\n",
      "Epoch 15/20\n",
      "4/4 [==============================] - 0s 2ms/step - loss: 1.0255 - accuracy: 0.7750\n",
      "Epoch 16/20\n",
      "4/4 [==============================] - 0s 3ms/step - loss: 1.5405 - accuracy: 0.8500\n",
      "Epoch 17/20\n",
      "4/4 [==============================] - 0s 2ms/step - loss: 1.3200 - accuracy: 0.8250\n",
      "Epoch 18/20\n",
      "4/4 [==============================] - 0s 2ms/step - loss: 0.5264 - accuracy: 0.8750\n",
      "Epoch 19/20\n",
      "4/4 [==============================] - 0s 2ms/step - loss: 0.9647 - accuracy: 0.9000\n",
      "Epoch 20/20\n",
      "4/4 [==============================] - 0s 2ms/step - loss: 0.3090 - accuracy: 0.9250\n"
     ]
    }
   ],
   "source": [
    "def train():\n",
    "    model.compile(\n",
    "        optimizer = \"adam\",\n",
    "        loss = keras.losses.SparseCategoricalCrossentropy(from_logits = False),\n",
    "        metrics = [\"accuracy\"]\n",
    "    )\n",
    "    model.fit(train_X, train_Y, batch_size = 10, epochs=20)\n",
    "\n",
    "def predict_outcomes(test_X):\n",
    "    predictions = np.around(model.predict(test_X), decimals = 2)\n",
    "    prediction_list = []\n",
    "    for prediction in predictions:\n",
    "        prediction_list.append(0 if prediction[0] > 0.5 else 1)\n",
    "    return np.array(prediction_list)\n",
    "    \n",
    "def evaluate(test_X, test_Y):\n",
    "    model.evaluate(test_X, test_Y)\n",
    "    return\n",
    "\n",
    "train()"
   ]
  },
  {
   "cell_type": "code",
   "execution_count": 7,
   "metadata": {},
   "outputs": [
    {
     "name": "stdout",
     "output_type": "stream",
     "text": [
      "1/1 [==============================] - 0s 47ms/step\n",
      "[0 0 0 0 0 0 1 1 0 0]\n",
      "[0 1 0 0 0 0 0 1 1 1]\n",
      "1/1 [==============================] - 0s 123ms/step - loss: 8.4752 - accuracy: 0.6000\n"
     ]
    }
   ],
   "source": [
    "print(predict_outcomes(test_X))\n",
    "print(test_Y)\n",
    "evaluate(test_X, test_Y)"
   ]
  },
  {
   "cell_type": "markdown",
   "metadata": {},
   "source": [
    "#### Data visualization\n",
    "Here we will draw a chart that compares the actual results to the predicted results by our neural network model."
   ]
  },
  {
   "cell_type": "code",
   "execution_count": 15,
   "metadata": {},
   "outputs": [
    {
     "name": "stdout",
     "output_type": "stream",
     "text": [
      "1/1 [==============================] - 0s 14ms/step\n"
     ]
    },
    {
     "data": {
      "text/plain": [
       "<matplotlib.legend.Legend at 0x2615938e4a0>"
      ]
     },
     "execution_count": 15,
     "metadata": {},
     "output_type": "execute_result"
    },
    {
     "data": {
      "image/png": "[encoded data removed]",
      "text/plain": [
       "<Figure size 432x288 with 1 Axes>"
      ]
     },
     "metadata": {
      "needs_background": "light"
     },
     "output_type": "display_data"
    }
   ],
   "source": [
    "from matplotlib import pyplot as plt\n",
    "\n",
    "plt.scatter(np.arange(stop = len(test_Y)), test_Y)\n",
    "plt.plot(np.arange(stop = len(test_Y)), test_Y, label = \"Actual outcomes\")\n",
    "\n",
    "predicted_outcomes = predict_outcomes(test_X)\n",
    "\n",
    "plt.scatter(np.arange(stop = len(predicted_outcomes)), predicted_outcomes)\n",
    "plt.plot(np.arange(stop = len(predicted_outcomes)), predicted_outcomes, label = \"Predicted outcomes\")\n",
    "plt.legend()"
   ]
  }
 ],
 "metadata": {
  "kernelspec": {
   "display_name": "Python 3.10.2 64-bit",
   "language": "python",
   "name": "python3"
  },
  "language_info": {
   "codemirror_mode": {
    "name": "ipython",
    "version": 3
   },
   "file_extension": ".py",
   "mimetype": "text/x-python",
   "name": "python",
   "nbconvert_exporter": "python",
   "pygments_lexer": "ipython3",
   "version": "3.10.2"
  },
  "orig_nbformat": 4,
  "vscode": {
   "interpreter": {
    "hash": "88fe7a25d85054255547d6d20438077e2c9b7f0173c5c7f80b1ed29a40135d98"
   }
  }
 },
 "nbformat": 4,
 "nbformat_minor": 2
}
