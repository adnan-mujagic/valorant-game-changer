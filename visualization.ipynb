{
 "cells": [
  {
   "cell_type": "code",
   "execution_count": 47,
   "metadata": {},
   "outputs": [
    {
     "data": {
      "text/html": [
       "<div>\n",
       "<style scoped>\n",
       "    .dataframe tbody tr th:only-of-type {\n",
       "        vertical-align: middle;\n",
       "    }\n",
       "\n",
       "    .dataframe tbody tr th {\n",
       "        vertical-align: top;\n",
       "    }\n",
       "\n",
       "    .dataframe thead th {\n",
       "        text-align: right;\n",
       "    }\n",
       "</style>\n",
       "<table border=\"1\" class=\"dataframe\">\n",
       "  <thead>\n",
       "    <tr style=\"text-align: right;\">\n",
       "      <th></th>\n",
       "      <th>Numbers adv</th>\n",
       "      <th>Health advantage</th>\n",
       "      <th>Average Weapon Cost</th>\n",
       "      <th>Time Pressure</th>\n",
       "      <th>Ults in use</th>\n",
       "      <th>Ults available</th>\n",
       "      <th>Result</th>\n",
       "    </tr>\n",
       "  </thead>\n",
       "  <tbody>\n",
       "    <tr>\n",
       "      <th>0</th>\n",
       "      <td>0</td>\n",
       "      <td>-128</td>\n",
       "      <td>680.0</td>\n",
       "      <td>-51</td>\n",
       "      <td>0</td>\n",
       "      <td>-1</td>\n",
       "      <td>0</td>\n",
       "    </tr>\n",
       "    <tr>\n",
       "      <th>1</th>\n",
       "      <td>0</td>\n",
       "      <td>-50</td>\n",
       "      <td>-1400.0</td>\n",
       "      <td>-6</td>\n",
       "      <td>-1</td>\n",
       "      <td>2</td>\n",
       "      <td>0</td>\n",
       "    </tr>\n",
       "    <tr>\n",
       "      <th>2</th>\n",
       "      <td>4</td>\n",
       "      <td>364</td>\n",
       "      <td>1470.0</td>\n",
       "      <td>67</td>\n",
       "      <td>0</td>\n",
       "      <td>0</td>\n",
       "      <td>1</td>\n",
       "    </tr>\n",
       "    <tr>\n",
       "      <th>3</th>\n",
       "      <td>2</td>\n",
       "      <td>302</td>\n",
       "      <td>-1300.0</td>\n",
       "      <td>27</td>\n",
       "      <td>0</td>\n",
       "      <td>0</td>\n",
       "      <td>1</td>\n",
       "    </tr>\n",
       "    <tr>\n",
       "      <th>4</th>\n",
       "      <td>1</td>\n",
       "      <td>325</td>\n",
       "      <td>2622.5</td>\n",
       "      <td>21</td>\n",
       "      <td>0</td>\n",
       "      <td>1</td>\n",
       "      <td>1</td>\n",
       "    </tr>\n",
       "  </tbody>\n",
       "</table>\n",
       "</div>"
      ],
      "text/plain": [
       "   Numbers adv  Health advantage  Average Weapon Cost  Time Pressure  \\\n",
       "0            0              -128                680.0            -51   \n",
       "1            0               -50              -1400.0             -6   \n",
       "2            4               364               1470.0             67   \n",
       "3            2               302              -1300.0             27   \n",
       "4            1               325               2622.5             21   \n",
       "\n",
       "   Ults in use  Ults available  Result  \n",
       "0            0              -1       0  \n",
       "1           -1               2       0  \n",
       "2            0               0       1  \n",
       "3            0               0       1  \n",
       "4            0               1       1  "
      ]
     },
     "execution_count": 47,
     "metadata": {},
     "output_type": "execute_result"
    }
   ],
   "source": [
    "import pandas as pd\n",
    "import numpy as np\n",
    "\n",
    "dataset = pd.read_excel(\"./dataset.xlsx\")\n",
    "\n",
    "dataset.head()"
   ]
  },
  {
   "cell_type": "markdown",
   "metadata": {},
   "source": [
    "#### Normalizing the data\n",
    "I want all of the data values to be between -1 and 1, just so it the impact of each feature can easily be compared.\n"
   ]
  },
  {
   "cell_type": "code",
   "execution_count": 48,
   "metadata": {},
   "outputs": [
    {
     "data": {
      "text/plain": [
       "array([[ 0.        , -0.21333333,  0.23129252, -0.6       ,  0.        ,\n",
       "        -0.33333333,  0.        ],\n",
       "       [ 0.        , -0.08333333, -0.47619048, -0.07058824, -1.        ,\n",
       "         0.66666667,  0.        ],\n",
       "       [ 1.        ,  0.60666667,  0.5       ,  0.78823529,  0.        ,\n",
       "         0.        ,  1.        ],\n",
       "       [ 0.5       ,  0.50333333, -0.44217687,  0.31764706,  0.        ,\n",
       "         0.        ,  1.        ],\n",
       "       [ 0.25      ,  0.54166667,  0.8920068 ,  0.24705882,  0.        ,\n",
       "         0.33333333,  1.        ],\n",
       "       [ 0.        ,  0.05      ,  0.74404762,  0.42352941,  0.        ,\n",
       "         0.        ,  1.        ],\n",
       "       [ 0.5       ,  0.54166667, -0.08163265,  0.15294118,  1.        ,\n",
       "         0.        ,  1.        ],\n",
       "       [ 1.        ,  1.        ,  0.12244898,  0.29411765,  1.        ,\n",
       "         0.33333333,  1.        ],\n",
       "       [ 0.        ,  0.20833333,  1.        ,  0.08235294, -1.        ,\n",
       "        -0.33333333,  1.        ],\n",
       "       [ 0.25      ,  0.33333333,  0.4914966 ,  0.22352941, -1.        ,\n",
       "        -0.33333333,  0.        ],\n",
       "       [ 0.        ,  0.04166667,  0.15306122,  0.24705882,  0.        ,\n",
       "         0.33333333,  1.        ],\n",
       "       [-0.5       , -0.375     ,  0.33673469,  0.38823529,  0.        ,\n",
       "         0.        ,  0.        ],\n",
       "       [ 0.25      ,  0.14166667, -0.02268707, -0.38823529,  0.        ,\n",
       "         0.        ,  1.        ],\n",
       "       [ 0.25      , -0.20166667,  0.25510204,  0.70588235,  0.        ,\n",
       "         0.        ,  1.        ],\n",
       "       [ 0.        ,  0.41666667,  0.43537415,  0.11764706,  0.        ,\n",
       "         0.        ,  1.        ],\n",
       "       [ 0.75      ,  0.635     , -0.3537415 ,  0.69411765,  0.        ,\n",
       "         0.33333333,  1.        ],\n",
       "       [ 0.        , -0.055     ,  0.12244898,  0.44705882, -1.        ,\n",
       "         0.33333333,  1.        ],\n",
       "       [-0.25      , -0.11666667,  0.54421769,  0.37647059,  0.        ,\n",
       "         0.33333333,  0.        ],\n",
       "       [ 0.25      ,  0.25      ,  0.        ,  0.48235294,  1.        ,\n",
       "         0.66666667,  0.        ],\n",
       "       [ 0.        ,  0.11833333,  0.08503401,  0.55294118,  1.        ,\n",
       "         0.        ,  1.        ],\n",
       "       [ 0.5       ,  0.50833333,  0.15306122, -0.87058824,  0.        ,\n",
       "         0.33333333,  0.        ],\n",
       "       [-0.25      , -0.59      ,  0.        , -0.92941176,  0.        ,\n",
       "         0.        ,  0.        ],\n",
       "       [ 0.        , -0.29166667, -0.84353741, -0.16470588,  0.        ,\n",
       "         0.66666667,  0.        ],\n",
       "       [-0.25      , -0.36166667,  0.        , -0.09411765,  0.        ,\n",
       "         0.33333333,  1.        ],\n",
       "       [-0.5       , -0.13      ,  0.        ,  0.82352941,  1.        ,\n",
       "         0.        ,  1.        ],\n",
       "       [-0.25      , -0.06333333,  0.21343537,  1.        ,  0.        ,\n",
       "         0.        ,  1.        ],\n",
       "       [-0.5       , -0.25333333,  0.74404762, -0.67058824,  0.        ,\n",
       "         0.33333333,  0.        ],\n",
       "       [ 0.5       ,  0.36      ,  0.        ,  0.76470588,  1.        ,\n",
       "         0.        ,  1.        ],\n",
       "       [ 0.25      ,  0.16666667, -0.10204082, -0.34117647,  1.        ,\n",
       "         0.33333333,  1.        ],\n",
       "       [ 0.        ,  0.04166667,  0.1462585 ,  0.        ,  0.        ,\n",
       "         0.33333333,  1.        ],\n",
       "       [-0.25      , -0.08333333,  0.06462585,  0.48235294,  0.        ,\n",
       "         0.        ,  1.        ],\n",
       "       [ 0.        ,  0.        ,  0.15306122,  0.36470588, -1.        ,\n",
       "         0.66666667,  0.        ],\n",
       "       [ 0.5       ,  0.175     , -0.54965986,  0.28235294,  0.        ,\n",
       "         0.33333333,  1.        ],\n",
       "       [ 0.25      ,  0.15      ,  0.        ,  0.37647059,  0.        ,\n",
       "         1.        ,  1.        ],\n",
       "       [-0.25      , -0.33333333,  0.03061224,  0.31764706,  0.        ,\n",
       "         0.        ,  0.        ],\n",
       "       [ 0.        , -0.04166667, -0.3537415 ,  0.02352941,  0.        ,\n",
       "         0.        ,  0.        ],\n",
       "       [ 0.        ,  0.41666667,  0.51020408, -0.03529412,  0.        ,\n",
       "         0.        ,  1.        ],\n",
       "       [-0.25      , -0.28333333, -0.66326531, -0.21176471,  0.        ,\n",
       "         0.        ,  0.        ],\n",
       "       [-0.25      , -0.45      ,  0.        , -0.32941176,  1.        ,\n",
       "         0.        ,  0.        ],\n",
       "       [-0.5       , -0.75666667, -0.85714286, -0.43529412,  0.        ,\n",
       "         0.        ,  0.        ],\n",
       "       [-0.25      , -0.39833333, -0.17857143, -0.68235294, -1.        ,\n",
       "        -0.66666667,  0.        ],\n",
       "       [ 0.        , -0.25      , -0.85714286, -0.04705882,  0.        ,\n",
       "         0.66666667,  1.        ],\n",
       "       [ 0.        , -0.04166667, -0.14285714,  0.        ,  0.        ,\n",
       "         0.33333333,  0.        ],\n",
       "       [ 0.        , -0.11      , -0.28911565, -0.28235294,  0.        ,\n",
       "        -0.33333333,  0.        ],\n",
       "       [-0.5       , -0.15666667,  0.05527211, -0.70588235,  0.        ,\n",
       "         0.        ,  0.        ],\n",
       "       [-0.25      , -0.345     , -0.37414966, -0.95294118,  0.        ,\n",
       "         0.        ,  0.        ],\n",
       "       [ 0.        , -0.07666667,  0.        ,  0.34117647,  0.        ,\n",
       "         0.        ,  0.        ],\n",
       "       [ 0.5       ,  0.46666667, -0.02380952,  0.36470588,  0.        ,\n",
       "         0.66666667,  1.        ],\n",
       "       [ 0.25      ,  0.41666667,  0.9047619 ,  0.29411765,  0.        ,\n",
       "         1.        ,  1.        ],\n",
       "       [ 0.25      ,  0.15666667,  0.        , -0.74117647,  0.        ,\n",
       "         0.33333333,  1.        ]])"
      ]
     },
     "execution_count": 48,
     "metadata": {},
     "output_type": "execute_result"
    }
   ],
   "source": [
    "\n",
    "dataset = dataset.to_numpy()\n",
    "max_of_each_column = np.abs(dataset).max(axis = 0, keepdims = True)\n",
    "\n",
    "max_of_each_column\n",
    "\n",
    "dataset = dataset / max_of_each_column\n",
    "\n",
    "dataset"
   ]
  },
  {
   "cell_type": "markdown",
   "metadata": {},
   "source": [
    "#### Separating the winning and losing datapoints"
   ]
  },
  {
   "cell_type": "code",
   "execution_count": 49,
   "metadata": {},
   "outputs": [],
   "source": [
    "\n",
    "winning_mask =  dataset[:, -1] == 1\n",
    "\n",
    "# Extracting winning and losing datapoints into their respective variables\n",
    "winning_datapoints = dataset[winning_mask]\n",
    "losing_datapoints = dataset[winning_mask == False]"
   ]
  },
  {
   "cell_type": "markdown",
   "metadata": {},
   "source": [
    "#### Calculating the average value of each feature"
   ]
  },
  {
   "cell_type": "code",
   "execution_count": 50,
   "metadata": {},
   "outputs": [
    {
     "name": "stdout",
     "output_type": "stream",
     "text": [
      "[0.20535714285714285, 0.2146428571428572, 0.1327113702623907, 0.2789915966386555, 0.14285714285714285, 0.2261904761904762] [-0.125, -0.17386363636363636, -0.06539888682745824, -0.19946524064171126, -0.09090909090909091, 0.10606060606060606]\n"
     ]
    }
   ],
   "source": [
    "# Taking average values for each feature of both winning and losing set\n",
    "winning_feature_avg = list(np.mean(winning_datapoints, axis=0)[:-1])\n",
    "losing_feature_avg = list(np.mean(losing_datapoints, axis=0)[:-1])\n",
    "\n",
    "print(winning_feature_avg, losing_feature_avg)"
   ]
  },
  {
   "cell_type": "markdown",
   "metadata": {},
   "source": [
    "#### Plotting a chart"
   ]
  },
  {
   "cell_type": "code",
   "execution_count": 51,
   "metadata": {},
   "outputs": [
    {
     "name": "stdout",
     "output_type": "stream",
     "text": [
      "6\n",
      "7\n"
     ]
    },
    {
     "data": {
      "image/png": "[encoded data removed]",
      "text/plain": [
       "<Figure size 432x288 with 1 Axes>"
      ]
     },
     "metadata": {
      "needs_background": "light"
     },
     "output_type": "display_data"
    }
   ],
   "source": [
    "from matplotlib import pyplot as plt\n",
    "\n",
    "features = pd.DataFrame(dataset, columns = [\"Numbers adv\", \"Health adv\", \"Average weapon cost\", \"Time pressure\", \"Ultimates in use\", \"Ultimates ready\", \"Result\"]).columns[:-1]\n",
    "\n",
    "n_features = len(features)\n",
    "\n",
    "from math import pi\n",
    "angles = [n / float(n_features) * 2 * pi for n in range(n_features)]\n",
    "\n",
    "angles += angles[:1]\n",
    "\n",
    "ax = plt.subplot(111, polar=True)\n",
    "\n",
    "plt.xticks(angles[:-1], features)\n",
    "\n",
    "ax.set_rlabel_position(30)\n",
    "\n",
    "plt.ylim(-1, 1)\n",
    "\n",
    "# \"Web\" of the winning feature average\n",
    "print(len(winning_feature_avg))\n",
    "winning_feature_avg += winning_feature_avg[:1]\n",
    "print(len(winning_feature_avg))\n",
    "\n",
    "ax.plot(angles, winning_feature_avg, linewidth=1, linestyle='solid', label=\"Winning\")\n",
    "ax.fill(angles, winning_feature_avg, 'b', alpha=0.1)\n",
    "\n",
    "# \"Web\" of the losing feature average\n",
    "losing_feature_avg += losing_feature_avg[:1]\n",
    "\n",
    "ax.plot(angles, losing_feature_avg, linewidth=1, linestyle='solid', label=\"Losing\")\n",
    "ax.fill(angles, losing_feature_avg, 'r', alpha=0.1)\n",
    "\n",
    "# Add legend\n",
    "plt.legend(loc='upper right', bbox_to_anchor=(0.1, 0.1))\n",
    "\n",
    "# Show the graph\n",
    "plt.show()"
   ]
  },
  {
   "cell_type": "code",
   "execution_count": null,
   "metadata": {},
   "outputs": [],
   "source": []
  }
 ],
 "metadata": {
  "kernelspec": {
   "display_name": "Python 3.10.2 64-bit",
   "language": "python",
   "name": "python3"
  },
  "language_info": {
   "codemirror_mode": {
    "name": "ipython",
    "version": 3
   },
   "file_extension": ".py",
   "mimetype": "text/x-python",
   "name": "python",
   "nbconvert_exporter": "python",
   "pygments_lexer": "ipython3",
   "version": "3.10.2"
  },
  "orig_nbformat": 4,
  "vscode": {
   "interpreter": {
    "hash": "88fe7a25d85054255547d6d20438077e2c9b7f0173c5c7f80b1ed29a40135d98"
   }
  }
 },
 "nbformat": 4,
 "nbformat_minor": 2
}
